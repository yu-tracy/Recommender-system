{
  "cells": [
    {
      "cell_type": "code",
      "execution_count": 453,
      "metadata": {
        "id": "f5NDXrN2CtH7"
      },
      "outputs": [],
      "source": [
        "import os\n",
        "import json\n",
        "import gzip\n",
        "import pandas as pd\n",
        "from urllib.request import urlopen"
      ]
    },
    {
      "cell_type": "markdown",
      "metadata": {},
      "source": [
        "# Week 6"
      ]
    },
    {
      "cell_type": "code",
      "execution_count": 132,
      "metadata": {
        "colab": {
          "base_uri": "https://localhost:8080/"
        },
        "id": "feWoOrmt4Tja",
        "outputId": "37fa34ba-5fc3-4695-cc6f-e46e0e047b96"
      },
      "outputs": [
        {
          "name": "stdout",
          "output_type": "stream",
          "text": [
            "--2022-03-24 15:50:46--  http://deepyeti.ucsd.edu/jianmo/amazon/categoryFilesSmall/Software_5.json.gz\n",
            "Resolving deepyeti.ucsd.edu... 169.228.63.50\n",
            "Connecting to deepyeti.ucsd.edu|169.228.63.50|:80... connected.\n",
            "HTTP request sent, awaiting response... 200 OK\n",
            "Length: 5339013 (5.1M) [application/octet-stream]\n",
            "Saving to: 'Software_5.json.gz.2'\n",
            "\n",
            "Software_5.json.gz. 100%[===================>]   5.09M  1.25MB/s    in 4.7s    \n",
            "\n",
            "2022-03-24 15:50:51 (1.08 MB/s) - 'Software_5.json.gz.2' saved [5339013/5339013]\n",
            "\n"
          ]
        }
      ],
      "source": [
        "!wget http://deepyeti.ucsd.edu/jianmo/amazon/categoryFilesSmall/Software_5.json.gz"
      ]
    },
    {
      "cell_type": "code",
      "execution_count": 458,
      "metadata": {
        "colab": {
          "base_uri": "https://localhost:8080/"
        },
        "id": "7igYuRaV4bF7",
        "outputId": "f82533a4-8cb0-474c-c98e-51b652183aec"
      },
      "outputs": [
        {
          "name": "stdout",
          "output_type": "stream",
          "text": [
            "Obervations in the whole dataset: 12805\n"
          ]
        }
      ],
      "source": [
        "### load the data\n",
        "data = []\n",
        "with gzip.open('Software_5.json.gz') as f:\n",
        "    for l in f:\n",
        "        data.append(json.loads(l.strip()))\n",
        "\n",
        "# convert list into pandas dataframe\n",
        "df = pd.DataFrame.from_dict(data)\n",
        "\n",
        "print(\"Obervations in the whole dataset:\", len(df))"
      ]
    },
    {
      "cell_type": "markdown",
      "metadata": {
        "id": "DgfA0HWx1i38"
      },
      "source": [
        "Clean the dataset from missing ratings and duplicates (cases where the same user has rated the same item multiple times) if any."
      ]
    },
    {
      "cell_type": "code",
      "execution_count": 457,
      "metadata": {
        "colab": {
          "base_uri": "https://localhost:8080/"
        },
        "id": "LgWrDtZ94w89",
        "outputId": "08f32818-2137-4162-9498-6bcbf6232984"
      },
      "outputs": [
        {
          "name": "stdout",
          "output_type": "stream",
          "text": [
            "Obervations in the cleaned dataset: 11884\n"
          ]
        }
      ],
      "source": [
        "df = df.sort_values(by=['reviewerID', 'asin', 'unixReviewTime'])\n",
        "cleaned_dataset = df.dropna(subset=['overall']).drop_duplicates(subset=['reviewerID', 'asin'], keep = 'last').reset_index(drop=True)\n",
        "print(\"Obervations in the cleaned dataset:\", len(cleaned_dataset))"
      ]
    },
    {
      "cell_type": "markdown",
      "metadata": {
        "id": "t8m30AIW1_Rq"
      },
      "source": [
        "create a test set by extracting the latest positively rated item (rating ≥ 4) by each user. Remove users that do not appear in the training set.\n"
      ]
    },
    {
      "cell_type": "code",
      "execution_count": 459,
      "metadata": {
        "colab": {
          "base_uri": "https://localhost:8080/"
        },
        "id": "7Vq32rQd5D9W",
        "outputId": "45ad0ed0-b336-4fb7-eb0a-d167a060b1c8"
      },
      "outputs": [
        {
          "name": "stdout",
          "output_type": "stream",
          "text": [
            "Observations in training set: 10171\n",
            "Observations in test set: 1711\n"
          ]
        }
      ],
      "source": [
        "cleaned_dataset = cleaned_dataset.sort_values(by=['reviewerID', 'unixReviewTime']).reset_index(drop=True)\n",
        "# extracting the latest (in time) positively rated item (rating  ≥4 ) by each user. \n",
        "test_data_pre = cleaned_dataset[cleaned_dataset.overall >= 4.0].drop_duplicates(subset=['reviewerID'], keep='last')\n",
        "# generate training data\n",
        "training_data = cleaned_dataset.drop(test_data_pre.index)\n",
        "print(\"Observations in training set:\", len(training_data))\n",
        "\n",
        "# Remove users that do not appear in the training set.\n",
        "user_in_training = test_data_pre['reviewerID'].isin(training_data['reviewerID'])\n",
        "test_data = test_data_pre[user_in_training]\n",
        "print(\"Observations in test set:\", len(test_data))"
      ]
    },
    {
      "cell_type": "markdown",
      "metadata": {
        "id": "_oXfDxGK2CKf"
      },
      "source": [
        "distribution of ratings per user\n",
        "\n",
        "\n"
      ]
    },
    {
      "cell_type": "code",
      "execution_count": 531,
      "metadata": {
        "colab": {
          "base_uri": "https://localhost:8080/"
        },
        "id": "6LBLzsFU5LJ_",
        "outputId": "5069c4ca-a34a-4830-b439-68ea2c93c999"
      },
      "outputs": [
        {
          "name": "stdout",
          "output_type": "stream",
          "text": [
            "summary statistics of ratings per user:\n"
          ]
        },
        {
          "data": {
            "text/plain": [
              "count    1824.000000\n",
              "mean        5.576206\n",
              "std         3.488828\n",
              "min         1.000000\n",
              "25%         4.000000\n",
              "50%         5.000000\n",
              "75%         6.000000\n",
              "max        51.000000\n",
              "Name: overall, dtype: float64"
            ]
          },
          "execution_count": 531,
          "metadata": {},
          "output_type": "execute_result"
        }
      ],
      "source": [
        "number_of_rating_user = training_data.groupby(['reviewerID']).count()\n",
        "print(\"summary statistics of ratings per user:\")\n",
        "number_of_rating_user.overall.describe()"
      ]
    },
    {
      "cell_type": "code",
      "execution_count": 537,
      "metadata": {},
      "outputs": [
        {
          "data": {
            "image/png": "[encoded data removed]",
            "text/plain": [
              "<Figure size 432x288 with 1 Axes>"
            ]
          },
          "metadata": {
            "needs_background": "light"
          },
          "output_type": "display_data"
        }
      ],
      "source": [
        "import matplotlib.pyplot as plt\n",
        "from collections import Counter\n",
        "\n",
        "# plot histogram\n",
        "statistics_user = training_data.reviewerID.value_counts().tolist()\n",
        "x = np.unique(statistics_user)\n",
        "counted = Counter(statistics_user)\n",
        "y = []\n",
        "for key in x:\n",
        "    tmp = counted[key] / len(statistics_user)\n",
        "    y.append(tmp)\n",
        "plt.bar(x, y)\n",
        "plt.xlabel(\"Number of ratings\")\n",
        "plt.ylabel(\"Percentage of users\")\n",
        "plt.savefig(\"distributions_user.pdf\")\n",
        "plt.show()"
      ]
    },
    {
      "cell_type": "markdown",
      "metadata": {
        "id": "sK7VWmiP555Y"
      },
      "source": [
        "distribution of ratings per item"
      ]
    },
    {
      "cell_type": "code",
      "execution_count": 461,
      "metadata": {
        "colab": {
          "base_uri": "https://localhost:8080/"
        },
        "id": "WqZcdGp-5cui",
        "outputId": "f42827e4-dae1-4a61-f37a-2002266abea4"
      },
      "outputs": [
        {
          "name": "stdout",
          "output_type": "stream",
          "text": [
            "summary statistics of ratings per item:\n"
          ]
        },
        {
          "data": {
            "text/plain": [
              "count    800.000000\n",
              "mean      12.713750\n",
              "std       16.234801\n",
              "min        1.000000\n",
              "25%        5.000000\n",
              "50%        9.500000\n",
              "75%       17.000000\n",
              "max      226.000000\n",
              "Name: overall, dtype: float64"
            ]
          },
          "execution_count": 461,
          "metadata": {},
          "output_type": "execute_result"
        }
      ],
      "source": [
        "number_of_rating_item = training_data.groupby(['asin']).count()\n",
        "print(\"summary statistics of ratings per item:\")\n",
        "number_of_rating_item.overall.describe()"
      ]
    },
    {
      "cell_type": "code",
      "execution_count": 538,
      "metadata": {},
      "outputs": [
        {
          "data": {
            "image/png": "[encoded data removed]",
            "text/plain": [
              "<Figure size 432x288 with 1 Axes>"
            ]
          },
          "metadata": {
            "needs_background": "light"
          },
          "output_type": "display_data"
        }
      ],
      "source": [
        "# a barplot of the number of ratings ordered by decreasing frequency\n",
        "statistics_item = training_data.asin.value_counts()\n",
        "plt.bar(np.arange(len(statistics_item)), statistics_item)\n",
        "plt.xlabel(\"Item index ordered by decreasing frequency\")\n",
        "plt.ylabel(\"Frequency\")\n",
        "plt.savefig(\"distributions_item.pdf\")\n",
        "plt.show()"
      ]
    },
    {
      "cell_type": "markdown",
      "metadata": {
        "id": "8qsmFKVp6Ge1"
      },
      "source": [
        " the top 5 most popular items"
      ]
    },
    {
      "cell_type": "code",
      "execution_count": 465,
      "metadata": {
        "id": "0469GyT46Hoh"
      },
      "outputs": [
        {
          "data": {
            "text/html": [
              "<div>\n",
              "<style scoped>\n",
              "    .dataframe tbody tr th:only-of-type {\n",
              "        vertical-align: middle;\n",
              "    }\n",
              "\n",
              "    .dataframe tbody tr th {\n",
              "        vertical-align: top;\n",
              "    }\n",
              "\n",
              "    .dataframe thead th {\n",
              "        text-align: right;\n",
              "    }\n",
              "</style>\n",
              "<table border=\"1\" class=\"dataframe\">\n",
              "  <thead>\n",
              "    <tr style=\"text-align: right;\">\n",
              "      <th></th>\n",
              "      <th>rated times</th>\n",
              "      <th>mean rating</th>\n",
              "    </tr>\n",
              "    <tr>\n",
              "      <th>asin</th>\n",
              "      <th></th>\n",
              "      <th></th>\n",
              "    </tr>\n",
              "  </thead>\n",
              "  <tbody>\n",
              "    <tr>\n",
              "      <th>B0001FS9NE</th>\n",
              "      <td>226</td>\n",
              "      <td>4.929204</td>\n",
              "    </tr>\n",
              "    <tr>\n",
              "      <th>B000050ZRE</th>\n",
              "      <td>226</td>\n",
              "      <td>4.929204</td>\n",
              "    </tr>\n",
              "    <tr>\n",
              "      <th>B0000AZJY6</th>\n",
              "      <td>224</td>\n",
              "      <td>4.928571</td>\n",
              "    </tr>\n",
              "    <tr>\n",
              "      <th>B00EZPXYP4</th>\n",
              "      <td>91</td>\n",
              "      <td>4.384615</td>\n",
              "    </tr>\n",
              "    <tr>\n",
              "      <th>B00F8K9MZQ</th>\n",
              "      <td>66</td>\n",
              "      <td>4.318182</td>\n",
              "    </tr>\n",
              "  </tbody>\n",
              "</table>\n",
              "</div>"
            ],
            "text/plain": [
              "            rated times  mean rating\n",
              "asin                                \n",
              "B0001FS9NE          226     4.929204\n",
              "B000050ZRE          226     4.929204\n",
              "B0000AZJY6          224     4.928571\n",
              "B00EZPXYP4           91     4.384615\n",
              "B00F8K9MZQ           66     4.318182"
            ]
          },
          "execution_count": 465,
          "metadata": {},
          "output_type": "execute_result"
        }
      ],
      "source": [
        "popular_rating = number_of_rating_item.overall.sort_values(ascending=False)\n",
        "popular_items = pd.DataFrame(data = popular_rating.values, index = popular_rating.index, columns=[\"rated times\"])\n",
        "user_item_training = training_data.pivot('reviewerID', 'asin', 'overall')\n",
        "user_item_training_mean = user_item_training.mean(axis = 0)\n",
        "for item in popular_items.index.values:\n",
        "    popular_items.loc[item, \"mean rating\"] = user_item_training_mean.loc[item]\n",
        "\n",
        "popular_items.sort_values(by=[\"rated times\", \"mean rating\"], ascending=False).head()"
      ]
    },
    {
      "cell_type": "markdown",
      "metadata": {},
      "source": [
        "The metadata file contains information of all items in the complete dataset, not only the 5-core subset. You need to filter out all items that are not included in the training and/or test sets after steps (2) and (3)."
      ]
    },
    {
      "cell_type": "code",
      "execution_count": 140,
      "metadata": {},
      "outputs": [],
      "source": [
        "# I did this part in Week 9"
      ]
    },
    {
      "cell_type": "markdown",
      "metadata": {},
      "source": [
        "# Week 7"
      ]
    },
    {
      "cell_type": "code",
      "execution_count": 466,
      "metadata": {},
      "outputs": [],
      "source": [
        "from surprise import Reader\n",
        "from surprise import Dataset\n",
        "import numpy as np"
      ]
    },
    {
      "cell_type": "code",
      "execution_count": 467,
      "metadata": {},
      "outputs": [],
      "source": [
        "reader = Reader(rating_scale=(1, 5))\n",
        "training = Dataset.load_from_df(training_data[['reviewerID', 'asin', 'overall']], reader)"
      ]
    },
    {
      "cell_type": "markdown",
      "metadata": {},
      "source": [
        "#### Define a user-based neighborhood model that takes into account the mean rating of each user."
      ]
    },
    {
      "cell_type": "markdown",
      "metadata": {},
      "source": [
        "Use 3-fold cross-validation on the training set to tune the hyperparameters of the chosen model (similarity measure and number of neighbors for the neighborhood-based model)"
      ]
    },
    {
      "cell_type": "code",
      "execution_count": 468,
      "metadata": {},
      "outputs": [
        {
          "name": "stdout",
          "output_type": "stream",
          "text": [
            "Computing the cosine similarity matrix...\n",
            "Done computing similarity matrix.\n",
            "Computing the cosine similarity matrix...\n",
            "Done computing similarity matrix.\n",
            "Computing the cosine similarity matrix...\n",
            "Done computing similarity matrix.\n",
            "Computing the msd similarity matrix...\n",
            "Done computing similarity matrix.\n",
            "Computing the msd similarity matrix...\n",
            "Done computing similarity matrix.\n",
            "Computing the msd similarity matrix...\n",
            "Done computing similarity matrix.\n",
            "Computing the pearson similarity matrix...\n",
            "Done computing similarity matrix.\n",
            "Computing the pearson similarity matrix...\n",
            "Done computing similarity matrix.\n",
            "Computing the pearson similarity matrix...\n",
            "Done computing similarity matrix.\n",
            "Estimating biases using als...\n",
            "Computing the pearson_baseline similarity matrix...\n",
            "Done computing similarity matrix.\n",
            "Estimating biases using als...\n",
            "Computing the pearson_baseline similarity matrix...\n",
            "Done computing similarity matrix.\n",
            "Estimating biases using als...\n",
            "Computing the pearson_baseline similarity matrix...\n",
            "Done computing similarity matrix.\n",
            "Computing the cosine similarity matrix...\n",
            "Done computing similarity matrix.\n",
            "Computing the cosine similarity matrix...\n",
            "Done computing similarity matrix.\n",
            "Computing the cosine similarity matrix...\n",
            "Done computing similarity matrix.\n",
            "Computing the msd similarity matrix...\n",
            "Done computing similarity matrix.\n",
            "Computing the msd similarity matrix...\n",
            "Done computing similarity matrix.\n",
            "Computing the msd similarity matrix...\n",
            "Done computing similarity matrix.\n",
            "Computing the pearson similarity matrix...\n",
            "Done computing similarity matrix.\n",
            "Computing the pearson similarity matrix...\n",
            "Done computing similarity matrix.\n",
            "Computing the pearson similarity matrix...\n",
            "Done computing similarity matrix.\n",
            "Estimating biases using als...\n",
            "Computing the pearson_baseline similarity matrix...\n",
            "Done computing similarity matrix.\n",
            "Estimating biases using als...\n",
            "Computing the pearson_baseline similarity matrix...\n",
            "Done computing similarity matrix.\n",
            "Estimating biases using als...\n",
            "Computing the pearson_baseline similarity matrix...\n",
            "Done computing similarity matrix.\n",
            "Computing the cosine similarity matrix...\n",
            "Done computing similarity matrix.\n",
            "Computing the cosine similarity matrix...\n",
            "Done computing similarity matrix.\n",
            "Computing the cosine similarity matrix...\n",
            "Done computing similarity matrix.\n",
            "Computing the msd similarity matrix...\n",
            "Done computing similarity matrix.\n",
            "Computing the msd similarity matrix...\n",
            "Done computing similarity matrix.\n",
            "Computing the msd similarity matrix...\n",
            "Done computing similarity matrix.\n",
            "Computing the pearson similarity matrix...\n",
            "Done computing similarity matrix.\n",
            "Computing the pearson similarity matrix...\n",
            "Done computing similarity matrix.\n",
            "Computing the pearson similarity matrix...\n",
            "Done computing similarity matrix.\n",
            "Estimating biases using als...\n",
            "Computing the pearson_baseline similarity matrix...\n",
            "Done computing similarity matrix.\n",
            "Estimating biases using als...\n",
            "Computing the pearson_baseline similarity matrix...\n",
            "Done computing similarity matrix.\n",
            "Estimating biases using als...\n",
            "Computing the pearson_baseline similarity matrix...\n",
            "Done computing similarity matrix.\n",
            "Computing the cosine similarity matrix...\n",
            "Done computing similarity matrix.\n",
            "Computing the cosine similarity matrix...\n",
            "Done computing similarity matrix.\n",
            "Computing the cosine similarity matrix...\n",
            "Done computing similarity matrix.\n",
            "Computing the msd similarity matrix...\n",
            "Done computing similarity matrix.\n",
            "Computing the msd similarity matrix...\n",
            "Done computing similarity matrix.\n",
            "Computing the msd similarity matrix...\n",
            "Done computing similarity matrix.\n",
            "Computing the pearson similarity matrix...\n",
            "Done computing similarity matrix.\n",
            "Computing the pearson similarity matrix...\n",
            "Done computing similarity matrix.\n",
            "Computing the pearson similarity matrix...\n",
            "Done computing similarity matrix.\n",
            "Estimating biases using als...\n",
            "Computing the pearson_baseline similarity matrix...\n",
            "Done computing similarity matrix.\n",
            "Estimating biases using als...\n",
            "Computing the pearson_baseline similarity matrix...\n",
            "Done computing similarity matrix.\n",
            "Estimating biases using als...\n",
            "Computing the pearson_baseline similarity matrix...\n",
            "Done computing similarity matrix.\n",
            "Computing the cosine similarity matrix...\n",
            "Done computing similarity matrix.\n",
            "Computing the cosine similarity matrix...\n",
            "Done computing similarity matrix.\n",
            "Computing the cosine similarity matrix...\n",
            "Done computing similarity matrix.\n",
            "Computing the msd similarity matrix...\n",
            "Done computing similarity matrix.\n",
            "Computing the msd similarity matrix...\n",
            "Done computing similarity matrix.\n",
            "Computing the msd similarity matrix...\n",
            "Done computing similarity matrix.\n",
            "Computing the pearson similarity matrix...\n",
            "Done computing similarity matrix.\n",
            "Computing the pearson similarity matrix...\n",
            "Done computing similarity matrix.\n",
            "Computing the pearson similarity matrix...\n",
            "Done computing similarity matrix.\n",
            "Estimating biases using als...\n",
            "Computing the pearson_baseline similarity matrix...\n",
            "Done computing similarity matrix.\n",
            "Estimating biases using als...\n",
            "Computing the pearson_baseline similarity matrix...\n",
            "Done computing similarity matrix.\n",
            "Estimating biases using als...\n",
            "Computing the pearson_baseline similarity matrix...\n",
            "Done computing similarity matrix.\n"
          ]
        }
      ],
      "source": [
        "from surprise.model_selection import cross_validate\n",
        "from surprise import KNNWithMeans\n",
        "from surprise.model_selection import GridSearchCV\n",
        "\n",
        "similarities = ['cosine', 'msd', 'pearson', 'pearson_baseline']\n",
        "k_set = [1, 5, 10, 15, 20] # values of k\n",
        "\n",
        "param_grid = {'k': k_set,\n",
        "              'sim_options': {'name': similarities,\n",
        "                              'user_based': [True]\n",
        "                            }}\n",
        "gs_knn = GridSearchCV(KNNWithMeans, param_grid, measures=['rmse'], cv=3)\n",
        "gs_knn.fit(training)"
      ]
    },
    {
      "cell_type": "markdown",
      "metadata": {},
      "source": [
        "Report the optimal hyperparameters together with the corresponding validation Root Mean Square Errors averaged over the 3 folds."
      ]
    },
    {
      "cell_type": "code",
      "execution_count": 469,
      "metadata": {},
      "outputs": [
        {
          "name": "stdout",
          "output_type": "stream",
          "text": [
            "Optimal hyperparameters: {'k': 5, 'sim_options': {'name': 'pearson', 'user_based': True}}\n",
            "Root Mean Square Errors averaged over the 3 folds: 1.213551003412549\n"
          ]
        }
      ],
      "source": [
        "print(\"Optimal hyperparameters:\", gs_knn.best_params['rmse'])\n",
        "print(\"Root Mean Square Errors averaged over the 3 folds:\", gs_knn.best_score['rmse'])\n",
        "# get optimal hyperparameters\n",
        "best_k = gs_knn.best_params['rmse']['k']\n",
        "best_sim_options = gs_knn.best_params['rmse']['sim_options']"
      ]
    },
    {
      "cell_type": "markdown",
      "metadata": {},
      "source": [
        "Run the models with the optimal hyperparameters to the whole training set."
      ]
    },
    {
      "cell_type": "code",
      "execution_count": 483,
      "metadata": {},
      "outputs": [
        {
          "name": "stdout",
          "output_type": "stream",
          "text": [
            "Computing the pearson similarity matrix...\n",
            "Done computing similarity matrix.\n"
          ]
        },
        {
          "data": {
            "text/plain": [
              "5"
            ]
          },
          "execution_count": 483,
          "metadata": {},
          "output_type": "execute_result"
        }
      ],
      "source": [
        "trainset_nb = training.build_full_trainset()\n",
        "model_nb = KNNWithMeans(k=best_k, sim_options=best_sim_options)\n",
        "model_nb.fit(trainset_nb)\n",
        "testset_nb = trainset_nb.build_anti_testset()\n",
        "predictions_nb = model_nb.test(testset_nb)"
      ]
    },
    {
      "cell_type": "markdown",
      "metadata": {},
      "source": [
        "#### Define an SVD model with user and item biases that uses Stochastic Gradient Descend (SGD) to estimate the low-rank matrix based on only observed ratings."
      ]
    },
    {
      "cell_type": "markdown",
      "metadata": {},
      "source": [
        "Use 3-fold cross-validation on the training set to tune the hyperparameters of the chosen models (number of latent factors and number of epochs for the latent factor model)"
      ]
    },
    {
      "cell_type": "code",
      "execution_count": 471,
      "metadata": {},
      "outputs": [],
      "source": [
        "from surprise import SVD\n",
        "\n",
        "n_factors_set = np.arange(10, 51, 10) \n",
        "n_epochs_set = np.arange(100, 501, 100)\n",
        "\n",
        "param_grid = {'n_epochs': n_epochs_set, 'n_factors': n_factors_set}\n",
        "gs_svd = GridSearchCV(SVD, param_grid, measures=['rmse'], cv=3)\n",
        "gs_svd.fit(training)"
      ]
    },
    {
      "cell_type": "markdown",
      "metadata": {},
      "source": [
        "Report the optimal hyperparameters together with the corresponding validation Root Mean Square Errors averaged over the 3 folds."
      ]
    },
    {
      "cell_type": "code",
      "execution_count": 484,
      "metadata": {},
      "outputs": [
        {
          "name": "stdout",
          "output_type": "stream",
          "text": [
            "Optimal hyperparameters: {'n_epochs': 100, 'n_factors': 10}\n",
            "Root Mean Square Errors averaged over the 3 folds: 1.1344357969390773\n"
          ]
        }
      ],
      "source": [
        "print(\"Optimal hyperparameters:\", gs_svd.best_params['rmse'])\n",
        "print(\"Root Mean Square Errors averaged over the 3 folds:\", gs_svd.best_score['rmse'])\n",
        "\n",
        "best_factors = gs_svd.best_params['rmse']['n_factors']\n",
        "best_epochs = gs_svd.best_params['rmse']['n_epochs']"
      ]
    },
    {
      "cell_type": "markdown",
      "metadata": {},
      "source": [
        "Run the models with the optimal hyperparameters to the whole training set."
      ]
    },
    {
      "cell_type": "code",
      "execution_count": 485,
      "metadata": {},
      "outputs": [],
      "source": [
        "trainset = training.build_full_trainset()\n",
        "model_lf = SVD(n_factors = best_factors, n_epochs = best_epochs, random_state = 0)\n",
        "model_lf.fit(trainset)\n",
        "testset_lf = trainset.build_anti_testset()\n",
        "predictions_lf = model_lf.test(testset_lf)"
      ]
    },
    {
      "cell_type": "markdown",
      "metadata": {},
      "source": [
        "Use the final models to rank the non-rated items for each user."
      ]
    },
    {
      "cell_type": "code",
      "execution_count": 149,
      "metadata": {},
      "outputs": [],
      "source": [
        "# I did this part in Week 8, because we need to remove users of predictions who are in the training set and are not in the test set."
      ]
    },
    {
      "cell_type": "markdown",
      "metadata": {},
      "source": [
        "# Week 8"
      ]
    },
    {
      "cell_type": "markdown",
      "metadata": {},
      "source": [
        "Measure the error of the system’s predicted ratings for Software products"
      ]
    },
    {
      "cell_type": "code",
      "execution_count": 486,
      "metadata": {},
      "outputs": [
        {
          "name": "stdout",
          "output_type": "stream",
          "text": [
            "There are 113 users in the training set that are not in the test set.\n",
            "Evaluating the systems with 1359246 predictions for users in the test split.\n"
          ]
        }
      ],
      "source": [
        "from surprise import accuracy\n",
        "\n",
        "pred_nb_list = predictions_nb\n",
        "pred_lf_list = predictions_lf\n",
        "# Detect users from training set that are not in test\n",
        "nb_users = set([pred.uid for pred in pred_nb_list])\n",
        "lf_users = set([pred.uid for pred in pred_lf_list])\n",
        "nb_users_in_pred_but_not_in_test = list(nb_users.difference(set(test_data['reviewerID'])))\n",
        "lf_users_in_pred_but_not_in_test = list(lf_users.difference(set(test_data['reviewerID'])))\n",
        "assert nb_users_in_pred_but_not_in_test == lf_users_in_pred_but_not_in_test\n",
        "print(f\"There are {len(lf_users_in_pred_but_not_in_test)} users in the training set that are not in the test set.\")\n",
        "\n",
        "# Remove these users' predictions for evaluation\n",
        "pred_nb_list_removed = [pred for pred in pred_nb_list if pred.uid not in nb_users_in_pred_but_not_in_test]\n",
        "pred_lf_list_removed = [pred for pred in pred_lf_list if pred.uid not in lf_users_in_pred_but_not_in_test]\n",
        "assert len(pred_nb_list_removed) == len(pred_lf_list_removed)\n",
        "print(f\"Evaluating the systems with {len(pred_nb_list_removed)} predictions for users in the test split.\")"
      ]
    },
    {
      "cell_type": "code",
      "execution_count": 487,
      "metadata": {},
      "outputs": [
        {
          "name": "stdout",
          "output_type": "stream",
          "text": [
            "RMSE: 0.9793\n",
            "RMSE for Neighborhood based Collaborative Filtering: 0.979\n",
            "RMSE: 0.8193\n",
            "RMSE for Latent Factor based Collaborative Filtering: 0.819\n"
          ]
        }
      ],
      "source": [
        "print(\"RMSE for Neighborhood based Collaborative Filtering: {:.3f}\".format(accuracy.rmse(pred_nb_list_removed)))\n",
        "print(\"RMSE for Latent Factor based Collaborative Filtering: {:.3f}\".format(accuracy.rmse(pred_lf_list_removed)))"
      ]
    },
    {
      "cell_type": "markdown",
      "metadata": {},
      "source": [
        "Generate the top-k (with k = 5) recommendation for each test user"
      ]
    },
    {
      "cell_type": "code",
      "execution_count": 488,
      "metadata": {},
      "outputs": [],
      "source": [
        "from collections import defaultdict\n",
        "\n",
        "def transfer_to_user_item_rating(pred_list):\n",
        "    # map users to their massages (iid, est)\n",
        "    user_item_rating = defaultdict(list)\n",
        "    for uid, iid, _, est, _ in pred_list:\n",
        "        user_item_rating[uid].append((iid, est))\n",
        "    # {uid: (iid, est)}\n",
        "    return user_item_rating\n",
        "\n",
        "def top_k_recommendations(n, user_item_rating):\n",
        "    # Then sort the predictions for each user and retrieve the k highest ones.\n",
        "    top_n = defaultdict(list)\n",
        "    for uid, user_ratings in user_item_rating.items():\n",
        "        # rank the non-rated items for each user\n",
        "        user_ratings.sort(key=lambda x: x[1], reverse=True)\n",
        "        # {uid: (iid, est)} -> top-n\n",
        "        top_n[uid] = user_ratings[:n]\n",
        "\n",
        "    return top_n"
      ]
    },
    {
      "cell_type": "code",
      "execution_count": 489,
      "metadata": {},
      "outputs": [],
      "source": [
        "user_item_test = test_data.pivot('reviewerID', 'asin', 'overall')\n",
        "user_item_test = user_item_test.fillna(0)\n",
        "\n",
        "# compute P@k for one user\n",
        "def precision_at_k(k, user_ratings):\n",
        "    n_rel = sum((relevant) for (_, _, relevant) in user_ratings[:k])\n",
        "    return n_rel / k\n",
        "\n",
        "# compute RR@k for one user\n",
        "def RR_at_k(k, user_ratings):\n",
        "    for i in range(k):\n",
        "        _, _, relevant = user_ratings[i]\n",
        "        if relevant == 1:\n",
        "            return 1.0 / (i+1)\n",
        "    return 0.0\n",
        "\n",
        "def total_relevant(user_ratings):\n",
        "    return sum((relevant) for (_, _, relevant) in user_ratings)\n",
        "\n",
        "def transfer_to_user_item_rating_relevant(pred_list):\n",
        "    # map users to their messages\n",
        "    user_item_rating = defaultdict(list)\n",
        "    for pred in pred_list:\n",
        "        true_rating = user_item_test.loc[pred.uid, pred.iid] if pred.iid in list(user_item_test.columns) else 0\n",
        "        relevant = 1 if true_rating >= 4.0 else 0\n",
        "        user_item_rating[pred.uid].append((pred.iid, pred.est, relevant))\n",
        "    # {uid: [(iid, est, relevant)]}\n",
        "    return user_item_rating\n",
        "\n",
        "def compute_metrics(k, user_item_rating):\n",
        "    precisions = dict() # precision\n",
        "    ap = dict() # average precision\n",
        "    rr = dict() # reciprocal rank\n",
        "    for uid, user_ratings in user_item_rating.items():\n",
        "        # rank the non-rated items for each user\n",
        "        user_ratings.sort(key=lambda x: x[1], reverse=True)\n",
        "        precisions[uid] = precision_at_k(k, user_ratings)\n",
        "        ap[uid] = (sum((precision_at_k(i, user_ratings)*user_ratings[i-1][2]) for i in range(1, k+1)) / total_relevant(user_ratings)) if total_relevant(user_ratings) != 0 else 0\n",
        "        rr[uid] = RR_at_k(k, user_ratings)\n",
        "\n",
        "    return sum(prec for prec in precisions.values()) / len(precisions), sum(prec for prec in ap.values()) / len(ap), sum(prec for prec in rr.values()) / len(rr)"
      ]
    },
    {
      "cell_type": "code",
      "execution_count": 490,
      "metadata": {},
      "outputs": [
        {
          "name": "stdout",
          "output_type": "stream",
          "text": [
            "Metrics for Neighborhood based CF:\n",
            "Averaged P@5: 0.004\n",
            "MAP@5: 0.009\n",
            "MRR@5: 0.009\n",
            "\n",
            "Metrics for Latent Factor based CF:\n",
            "Averaged P@5: 0.001\n",
            "MAP@5: 0.002\n",
            "MRR@5: 0.002\n"
          ]
        }
      ],
      "source": [
        "user_item_rating_nb_relevant = transfer_to_user_item_rating_relevant(pred_nb_list_removed)\n",
        "user_item_rating_lf_relevant = transfer_to_user_item_rating_relevant(pred_lf_list_removed)\n",
        "\n",
        "k_set = [5]\n",
        "print(\"Metrics for Neighborhood based CF:\")\n",
        "for k in k_set:\n",
        "    p_at_k_nb, map_at_k_nb, mrr_at_k_nb = compute_metrics(k, user_item_rating_nb_relevant)\n",
        "    print(f\"Averaged P@{k}:\", round(p_at_k_nb, 3))\n",
        "    print(f\"MAP@{k}:\", round(map_at_k_nb, 3))\n",
        "    print(f\"MRR@{k}:\", round(mrr_at_k_nb, 3))\n",
        "\n",
        "print(\"\")\n",
        "\n",
        "print(\"Metrics for Latent Factor based CF:\")\n",
        "for k in k_set:\n",
        "    p_at_k_lf, map_at_k_lf, mrr_at_k_lf = compute_metrics(k, user_item_rating_lf_relevant)\n",
        "    print(f\"Averaged P@{k}:\", round(p_at_k_lf, 3))\n",
        "    print(f\"MAP@{k}:\", round(map_at_k_lf, 3))\n",
        "    print(f\"MRR@{k}:\", round(mrr_at_k_lf, 3))"
      ]
    },
    {
      "cell_type": "markdown",
      "metadata": {},
      "source": [
        "Compute the system’s hit rate averaged over the total number of users in the test set."
      ]
    },
    {
      "cell_type": "code",
      "execution_count": 491,
      "metadata": {},
      "outputs": [
        {
          "name": "stdout",
          "output_type": "stream",
          "text": [
            "Hit Rate for Neighborhood based CF:\n",
            "Hit Rate (top-5): 0.019\n",
            "\n",
            "Hit Rate for Latent Factor based CF:\n",
            "Hit Rate (top-5): 0.005\n"
          ]
        }
      ],
      "source": [
        "# compute HR@k for one user\n",
        "def HR_at_k(k, user_ratings):\n",
        "    for i in range(k):\n",
        "        _, _, relevant = user_ratings[i]\n",
        "        if relevant == 1:\n",
        "            return 1.0\n",
        "    return 0.0\n",
        "\n",
        "def compute_hit_rate(k, user_item_rating):\n",
        "    hr = dict() # hit rate\n",
        "    for uid, user_ratings in user_item_rating.items():\n",
        "        # Sort user ratings by estimated value\n",
        "        user_ratings.sort(key=lambda x: x[1], reverse=True)\n",
        "        hr[uid] = HR_at_k(k, user_ratings)\n",
        "\n",
        "    return sum(prec for prec in hr.values()) / len(hr) \n",
        "\n",
        "k_set = [5]\n",
        "print(\"Hit Rate for Neighborhood based CF:\")\n",
        "for k in k_set:\n",
        "    mhr_at_k_nb = compute_hit_rate(k, user_item_rating_nb_relevant)\n",
        "    print(f\"Hit Rate (top-{k}):\", round(mhr_at_k_nb, 3))\n",
        "\n",
        "print(\"\")\n",
        "\n",
        "print(\"Hit Rate for Latent Factor based CF:\")\n",
        "for k in k_set:\n",
        "    mhr_at_k_lf = compute_hit_rate(k, user_item_rating_lf_relevant)\n",
        "    print(f\"Hit Rate (top-{k}):\", round(mhr_at_k_lf, 3))"
      ]
    },
    {
      "cell_type": "markdown",
      "metadata": {},
      "source": [
        "Ordered by the value of the column “unixReviewTime”, take the first and last users from the test set as reference and retrieve the 10 nearest neighbours of each reference user."
      ]
    },
    {
      "cell_type": "code",
      "execution_count": 492,
      "metadata": {},
      "outputs": [
        {
          "name": "stdout",
          "output_type": "stream",
          "text": [
            "The first user:  A2G0O4Y8QE10AE\n",
            "The last user:  A2SACTIFMC5DXO\n",
            "10 nearest neighbors of the first user:  ['A100UD67AHFODS', 'A105S56ODHGJEK', 'A1075X1Q4M3S78', 'A10C5CJK1YKGV0', 'A10CRW7XRJBJ2G', 'A10EIJM2C94M14', 'A10G3LHNAK4GEH', 'A10G4BPT5MGBHY', 'A10GU5NVTA5I67', 'A10NC6ZVVMBHNH']\n",
            "10 nearest neighbors of the last user:  ['A23E9QQHJLNGUI', 'A2DV14M0BC6YY1', 'A100UD67AHFODS', 'A105S56ODHGJEK', 'A1075X1Q4M3S78', 'A10C5CJK1YKGV0', 'A10CRW7XRJBJ2G', 'A10EIJM2C94M14', 'A10G3LHNAK4GEH', 'A10G4BPT5MGBHY']\n"
          ]
        }
      ],
      "source": [
        "test_data_unix = test_data.sort_values(by=['unixReviewTime']).reset_index(drop=True)\n",
        "\n",
        "first_user = test_data_unix.loc[0]['reviewerID']\n",
        "last_user = test_data_unix.loc[len(test_data_unix) - 1]['reviewerID']\n",
        "\n",
        "print(\"The first user: \", first_user)\n",
        "print(\"The last user: \", last_user)\n",
        "\n",
        "# get reference users' inner id\n",
        "first_inner_uid = model_nb.trainset.to_inner_uid(first_user)\n",
        "last_inner_uid = model_nb.trainset.to_inner_uid(last_user)\n",
        "\n",
        "# get the 10 neighbors' inner id for the first user\n",
        "first_10_inner_uid = model_nb.get_neighbors(first_inner_uid, k=10)\n",
        "# get the 10 neighbors' inner id for the last user\n",
        "last_10_inner_uid = model_nb.get_neighbors(last_inner_uid, k=10)\n",
        "\n",
        "# get the raw id\n",
        "first_10_raw_uid = [model_nb.trainset.to_raw_uid(inner_id) for inner_id in first_10_inner_uid]\n",
        "last_10_raw_uid = [model_nb.trainset.to_raw_uid(inner_id) for inner_id in last_10_inner_uid]\n",
        "\n",
        "print(\"10 nearest neighbors of the first user: \", first_10_raw_uid)\n",
        "print(\"10 nearest neighbors of the last user: \", last_10_raw_uid)"
      ]
    },
    {
      "cell_type": "markdown",
      "metadata": {},
      "source": [
        "Print their rate history and analyse their predictions."
      ]
    },
    {
      "cell_type": "code",
      "execution_count": 556,
      "metadata": {},
      "outputs": [
        {
          "name": "stdout",
          "output_type": "stream",
          "text": [
            "Similarities between the first user's ratings and its 10 nearest neighbors' ratings:\n",
            "[1.         0.97491908 1.         0.99362761 0.99513379 1.\n",
            " 0.99931987 0.99199394 0.99975567 0.99701224]\n",
            "\n",
            "Similarities between the last user's ratings and its 10 nearest neighbors' ratings:\n",
            "[0.98379798 0.98604279 0.99720711 0.97853894 0.99720711 0.99249852\n",
            " 0.99361356 0.99720711 0.99670568 0.99128762]\n"
          ]
        }
      ],
      "source": [
        "# get two clusters\n",
        "cluster_first = [first_user] + first_10_raw_uid\n",
        "cluster_last = [last_user] + last_10_raw_uid\n",
        "\n",
        "first_rated_history = training_data[training_data['reviewerID'].isin(cluster_first)]\n",
        "last_rated_history = training_data[training_data['reviewerID'].isin(cluster_last)]\n",
        "\n",
        "user_item_first_cluster = first_rated_history.pivot('reviewerID', 'asin', 'overall')\n",
        "for user in user_item_first_cluster.index.values:\n",
        "    mean_rating_of_user = user_item_first_cluster.loc[user].mean()\n",
        "    # fill in the average rating\n",
        "    user_item_first_cluster.loc[user] = user_item_first_cluster.loc[user].fillna(mean_rating_of_user)\n",
        "\n",
        "user_item_last_cluster = last_rated_history.pivot('reviewerID', 'asin', 'overall')\n",
        "for user in user_item_last_cluster.index.values:\n",
        "    mean_rating_of_user = user_item_last_cluster.loc[user].mean()\n",
        "    # fill in the average rating\n",
        "    user_item_last_cluster.loc[user] = user_item_last_cluster.loc[user].fillna(mean_rating_of_user)\n",
        "\n",
        "print(\"Similarities between the first user's ratings and its 10 nearest neighbors' ratings:\")\n",
        "print(cosine_similarity([user_item_first_cluster.loc[first_user]], user_item_first_cluster.loc[first_10_raw_uid])[0])\n",
        "\n",
        "print(\"\")\n",
        "\n",
        "print(\"Similarities between the last user's ratings and its 10 nearest neighbors' ratings:\")\n",
        "print(cosine_similarity([user_item_last_cluster.loc[last_user]], user_item_last_cluster.loc[last_10_raw_uid])[0])"
      ]
    },
    {
      "cell_type": "markdown",
      "metadata": {},
      "source": [
        "For those users or products that your model performs poorly on (RR ≤ 0.05), discuss the potential reasons behind."
      ]
    },
    {
      "cell_type": "code",
      "execution_count": 521,
      "metadata": {},
      "outputs": [
        {
          "name": "stdout",
          "output_type": "stream",
          "text": [
            "Total number of users in the two clusters: 14\n",
            "Total number of users whoes RR <= 0.05: 14\n",
            "Print those users that the model performs poorly on (RR ≤ 0.05):\n",
            "{'A2G0O4Y8QE10AE': 0.001594896331738437, 'A100UD67AHFODS': 0.004608294930875576, 'A105S56ODHGJEK': 0.002898550724637681, 'A1075X1Q4M3S78': 0.02040816326530612, 'A10C5CJK1YKGV0': 0.0022123893805309734, 'A10CRW7XRJBJ2G': 0.0025575447570332483, 'A10EIJM2C94M14': 0.0027100271002710027, 'A10G3LHNAK4GEH': 0.02127659574468085, 'A10G4BPT5MGBHY': 0.0024813895781637717, 'A10GU5NVTA5I67': 0.0038314176245210726, 'A10NC6ZVVMBHNH': 0.0013315579227696406, 'A2SACTIFMC5DXO': 0.009433962264150943, 'A23E9QQHJLNGUI': 0.0014814814814814814, 'A2DV14M0BC6YY1': 0}\n"
          ]
        }
      ],
      "source": [
        "def RR_poorly(user_item_rating):\n",
        "    rr_list = dict() # reciprocal rank\n",
        "    for uid in cluster_first + cluster_last: # set default value as 0\n",
        "        rr_list[uid] = 0\n",
        "    print(\"Total number of users in the two clusters:\", len(rr_list))\n",
        "    for uid, user_ratings in user_item_rating.items():\n",
        "        # rank the non-rated items for each user\n",
        "        if uid in cluster_first or uid in cluster_last:\n",
        "            user_ratings.sort(key=lambda x: x[1], reverse=True)\n",
        "            user_rr = RR_at_k(len(user_ratings), user_ratings)\n",
        "            if user_rr <= 0.05: # get poor rr\n",
        "                rr_list[uid] = user_rr\n",
        "            # if user_rr != 0.0:\n",
        "            #     print(user_rr)\n",
        "    return rr_list\n",
        "\n",
        "rr_poorly_list = RR_poorly(user_item_rating_nb_relevant)\n",
        "print(\"Total number of users whoes RR <= 0.05:\", len(rr_poorly_list))\n",
        "print(\"Print those users that the model performs poorly on (RR ≤ 0.05):\")\n",
        "print(rr_poorly_list)"
      ]
    },
    {
      "cell_type": "markdown",
      "metadata": {},
      "source": [
        "# Week 9"
      ]
    },
    {
      "cell_type": "code",
      "execution_count": 498,
      "metadata": {},
      "outputs": [],
      "source": [
        "import json\n",
        "import pandas as pd\n",
        "import gzip\n",
        "import os\n",
        "from urllib.request import urlopen"
      ]
    },
    {
      "cell_type": "code",
      "execution_count": 500,
      "metadata": {},
      "outputs": [
        {
          "name": "stdout",
          "output_type": "stream",
          "text": [
            "--2022-03-29 11:33:34--  http://deepyeti.ucsd.edu/jianmo/amazon/metaFiles2/meta_Software.json.gz\n",
            "Resolving deepyeti.ucsd.edu... 169.228.63.50\n",
            "Connecting to deepyeti.ucsd.edu|169.228.63.50|:80... connected.\n",
            "HTTP request sent, awaiting response... 200 OK\n",
            "Length: 15240894 (15M) [application/octet-stream]\n",
            "Saving to: 'meta_Software.json.gz.3'\n",
            "\n",
            "meta_Software.json. 100%[===================>]  14.53M  2.41MB/s    in 7.2s    \n",
            "\n",
            "2022-03-29 11:33:42 (2.02 MB/s) - 'meta_Software.json.gz.3' saved [15240894/15240894]\n",
            "\n"
          ]
        }
      ],
      "source": [
        "!wget http://deepyeti.ucsd.edu/jianmo/amazon/metaFiles2/meta_Software.json.gz"
      ]
    },
    {
      "cell_type": "code",
      "execution_count": 501,
      "metadata": {},
      "outputs": [
        {
          "name": "stdout",
          "output_type": "stream",
          "text": [
            "Total number of items in 'meta_Software': 26790\n",
            "Number of items after discard duplicate items: 21639\n",
            "Number of items that were rated by users in training or testing data: 801\n"
          ]
        }
      ],
      "source": [
        "import os\n",
        "import sys\n",
        "sys.path.append('../')\n",
        "import pandas as pd\n",
        "\n",
        "# Load the METADATA (ITEMS)\n",
        "def parse(path):\n",
        "    g = gzip.open(path, 'rb')\n",
        "    for l in g:\n",
        "        yield json.loads(l)\n",
        "\n",
        "def getDF(path):\n",
        "  i = 0\n",
        "  df = {}\n",
        "  for d in parse(path):\n",
        "    df[i] = d\n",
        "    i += 1\n",
        "  return pd.DataFrame.from_dict(df, orient='index')\n",
        "\n",
        "df = getDF('meta_Software.json.gz')\n",
        "print(\"Total number of items in \\'meta_Software\\':\", len(df))\n",
        "\n",
        "# Discard duplicates\n",
        "df = df.drop_duplicates(subset=['asin']).reset_index(drop=True)\n",
        "print(\"Number of items after discard duplicate items:\", len(df))\n",
        "\n",
        "# Discard items that weren't rated by our subset of users\n",
        "item_in_training = df['asin'].isin(training_data.append(test_data)['asin'])\n",
        "df = df[item_in_training].reset_index(drop=True)\n",
        "print(\"Number of items that were rated by users in training or testing data:\", len(df))"
      ]
    },
    {
      "cell_type": "markdown",
      "metadata": {},
      "source": [
        " Select the column “title” from the metadata (only for the products rated in our small subset of the dataset) and apply the following preprocessing to clean up the data: tokenization, transform to lowercase, remove stop- words3, stemming. Report the vocabulary size after preprocessing. "
      ]
    },
    {
      "cell_type": "code",
      "execution_count": 522,
      "metadata": {},
      "outputs": [
        {
          "name": "stdout",
          "output_type": "stream",
          "text": [
            "before preprocessing: 967\n"
          ]
        },
        {
          "name": "stderr",
          "output_type": "stream",
          "text": [
            "[nltk_data] Downloading package punkt to /Users/wy/nltk_data...\n",
            "[nltk_data]   Package punkt is already up-to-date!\n",
            "[nltk_data] Downloading package stopwords to /Users/wy/nltk_data...\n",
            "[nltk_data]   Package stopwords is already up-to-date!\n"
          ]
        }
      ],
      "source": [
        "import nltk\n",
        "import string \n",
        "import re\n",
        "nltk.download('punkt')\n",
        "nltk.download('stopwords')\n",
        "\n",
        "from nltk.corpus import stopwords\n",
        "from nltk.stem import PorterStemmer\n",
        "from nltk.tokenize import sent_tokenize, word_tokenize\n",
        "from nltk.tokenize.treebank import TreebankWordDetokenizer\n",
        "\n",
        "df['clean_title']= df['title'].apply(lambda x: word_tokenize(x))\n",
        "\n",
        "# the vocabulary size before the preprocessing.\n",
        "vacabulary = set()\n",
        "\n",
        "for word in df.clean_title.values:\n",
        "    for voc in word:\n",
        "        vacabulary.add(voc)\n",
        "\n",
        "print(\"before preprocessing:\", len(vacabulary))"
      ]
    },
    {
      "cell_type": "code",
      "execution_count": 523,
      "metadata": {},
      "outputs": [
        {
          "name": "stdout",
          "output_type": "stream",
          "text": [
            "the vocabulary size after preprocessing: 622\n"
          ]
        }
      ],
      "source": [
        "stop_words = stopwords.words(\"english\")\n",
        "\n",
        "# stopwords removal\n",
        "def remove_stopwords(text):\n",
        "    output= [i for i in text if i not in stop_words]\n",
        "    return output\n",
        "\n",
        "def is_alpha(text):\n",
        "    output = [i for i in text if i.isalpha()]\n",
        "    return output\n",
        "\n",
        "def to_lower(text):\n",
        "    output= [i.lower() for i in text]\n",
        "    return output\n",
        "\n",
        "#defining the object for stemming\n",
        "porter_stemmer = PorterStemmer()\n",
        "\n",
        "def stemming(text):\n",
        "    stem_text = [porter_stemmer.stem(word) for word in text]\n",
        "    return stem_text\n",
        "\n",
        "# print(df.clean_title)\n",
        "df['clean_title']= df['clean_title'].apply(lambda x: to_lower(x))\n",
        "df['clean_title']= df['clean_title'].apply(lambda x: is_alpha(x))\n",
        "df['clean_title'] = df['clean_title'].apply(lambda x: remove_stopwords(x))\n",
        "df['clean_title'] = df['clean_title'].apply(lambda x: stemming(x))\n",
        "\n",
        "# the vocabulary size after the preprocessing.\n",
        "vacabulary = set()\n",
        "for word in df.clean_title.values:\n",
        "    for voc in word:\n",
        "        vacabulary.add(voc)\n",
        "print(\"the vocabulary size after preprocessing:\", len(vacabulary))\n",
        "# print(df.clean_title)"
      ]
    },
    {
      "cell_type": "markdown",
      "metadata": {},
      "source": [
        "Represent each product in the TF-IDF vector space."
      ]
    },
    {
      "cell_type": "code",
      "execution_count": 524,
      "metadata": {},
      "outputs": [
        {
          "name": "stdout",
          "output_type": "stream",
          "text": [
            "TF-IDF matrix shape: (801, 618)\n"
          ]
        }
      ],
      "source": [
        "from sklearn.feature_extraction.text import TfidfVectorizer\n",
        "\n",
        "tfidf_vectorizer = TfidfVectorizer()\n",
        "\n",
        "title_list = []\n",
        "for text in df.clean_title.values:\n",
        "    title_list.append(TreebankWordDetokenizer().detokenize(text))\n",
        "tf_idf_matrix = tfidf_vectorizer.fit_transform(title_list)\n",
        "tf_idf_array = tf_idf_matrix.toarray()\n",
        "\n",
        "print(\"TF-IDF matrix shape:\", tf_idf_array.shape)"
      ]
    },
    {
      "cell_type": "markdown",
      "metadata": {},
      "source": [
        "Represent each product using pretrained word embeddings"
      ]
    },
    {
      "cell_type": "code",
      "execution_count": 163,
      "metadata": {},
      "outputs": [],
      "source": [
        "import gensim.downloader\n",
        "word2vec_vectors = gensim.downloader.load('word2vec-google-news-300')"
      ]
    },
    {
      "cell_type": "code",
      "execution_count": 408,
      "metadata": {},
      "outputs": [],
      "source": [
        "from sklearn.metrics.pairwise import cosine_similarity\n",
        "import numpy as np\n",
        "\n",
        "def convert_sentence2vec(sentence):\n",
        "    vectors = np.zeros((300,))\n",
        "    count = 0\n",
        "    for text in sentence:\n",
        "        try: \n",
        "            vec = word2vec_vectors[text]\n",
        "        except:\n",
        "            pass\n",
        "        else:\n",
        "            count += 1\n",
        "            vectors += vec\n",
        "    result = vectors / count if count != 0 else np.zeros((300,))\n",
        "    return result\n",
        "\n",
        "word_vector = []\n",
        "for text in df.clean_title.values:\n",
        "    vector = convert_sentence2vec(text)\n",
        "    word_vector.append(vector)"
      ]
    },
    {
      "cell_type": "markdown",
      "metadata": {},
      "source": [
        "Explore the similarity between products within the vector spaces by computing their cosine similarity. Compare results obtained with TF-IDF and the word embeddings."
      ]
    },
    {
      "cell_type": "code",
      "execution_count": 475,
      "metadata": {},
      "outputs": [
        {
          "name": "stdout",
          "output_type": "stream",
          "text": [
            "Cosine similarity of the first five products obtained with TF-IDF:\n",
            "[[1.         0.40876432 0.38100113 0.         0.        ]\n",
            " [0.40876432 1.         0.66379832 0.         0.        ]\n",
            " [0.38100113 0.66379832 1.         0.         0.        ]\n",
            " [0.         0.         0.         1.         0.        ]\n",
            " [0.         0.         0.         0.         1.        ]]\n",
            "\n",
            "Cosine similarity of the first five products obtained with word embeddings:\n",
            "[[1.         0.49886109 0.48628955 0.64383875 0.3779223 ]\n",
            " [0.49886109 1.         0.82148934 0.40978907 0.32713615]\n",
            " [0.48628955 0.82148934 1.         0.43663537 0.3267278 ]\n",
            " [0.64383875 0.40978907 0.43663537 1.         0.41686391]\n",
            " [0.3779223  0.32713615 0.3267278  0.41686391 1.        ]]\n"
          ]
        }
      ],
      "source": [
        "print(\"Cosine similarity between the first five products obtained with TF-IDF:\")\n",
        "print(cosine_similarity(tf_idf_array[:5]))\n",
        "\n",
        "print(\"\")\n",
        "\n",
        "print(\"Cosine similarity between the first five products obtained with word embeddings:\")\n",
        "print(cosine_similarity(word_vector[:5]))"
      ]
    },
    {
      "cell_type": "markdown",
      "metadata": {},
      "source": [
        "# Week 10"
      ]
    },
    {
      "cell_type": "markdown",
      "metadata": {},
      "source": [
        "Transform the “title” column of each product into a TF-IDF score or other numerical value, e.g., token-count based, that can represent the summaries."
      ]
    },
    {
      "cell_type": "code",
      "execution_count": 541,
      "metadata": {},
      "outputs": [
        {
          "name": "stdout",
          "output_type": "stream",
          "text": [
            "[ 5.  8. 10.  7.  4.]\n"
          ]
        }
      ],
      "source": [
        "# get tf-idf score of each item based on token-count \n",
        "def get_tf_idf_score(tf_idf_array):\n",
        "    tf_idf_score = np.zeros(len(tf_idf_array))\n",
        "    for i in range(len(tf_idf_array)):\n",
        "        tf_idf_score[i] = sum(tf_idf_array[i] != 0)\n",
        "    return tf_idf_score\n",
        "\n",
        "tf_idf_score = get_tf_idf_score(tf_idf_array)\n",
        "# print the first 5 items' tf-idf score\n",
        "print(tf_idf_score[:5])"
      ]
    },
    {
      "cell_type": "markdown",
      "metadata": {},
      "source": [
        "After you represent each product in a vector space, represent each user in the same vector space. This can be done by using an average of the items the user rates. Instead of a simple average, a weighted average can be used, where the weight is the rating for the item by the user."
      ]
    },
    {
      "cell_type": "code",
      "execution_count": 542,
      "metadata": {},
      "outputs": [],
      "source": [
        "item_tf_idf_matrix = pd.DataFrame(index=df.asin.values, data=tf_idf_array)\n",
        "\n",
        "def convert_2_same_vector_space():\n",
        "    # map userID to the corresponding vector space\n",
        "    same_vector_space = defaultdict(pd.DataFrame)\n",
        "    for user in user_item_training.index.values:\n",
        "        # get the rows where 'reviewerID == user'\n",
        "        row_rated_by_users = training_data['reviewerID'].isin([user])\n",
        "        # get items rated by the user\n",
        "        items = training_data[row_rated_by_users].asin.values\n",
        "        # get the user's ratings for these items\n",
        "        ratings = user_item_training.loc[user, items].values\n",
        "        # get items' feature vector from the TF-IDF vector\n",
        "        product_vector = item_tf_idf_matrix.loc[items]\n",
        "        # represent in the same vector space\n",
        "        product_vector['overall'] = ratings\n",
        "        same_vector_space[user] = product_vector\n",
        "    return same_vector_space\n",
        "\n",
        "def build_user_profile(same_vector_space):\n",
        "    # map userID to the user's profile\n",
        "    user_profile = defaultdict()\n",
        "    for user, vector in same_vector_space.items():\n",
        "        # get item feature vectors\n",
        "        item_feature = vector.drop(['overall'], axis=1)\n",
        "        # get the ratings for the items by the user\n",
        "        rating = vector.overall.values\n",
        "        # compute the weighted average\n",
        "        user_profile[user] = np.mean(np.array(item_feature.multiply(rating, axis=0).values), axis=0)\n",
        "    return user_profile\n",
        "\n",
        "same_vector_space = convert_2_same_vector_space()\n",
        "user_profile = build_user_profile(same_vector_space)"
      ]
    },
    {
      "cell_type": "markdown",
      "metadata": {},
      "source": [
        "Calculate the user-item rating for an item by using a similarity metric between the user and the item. "
      ]
    },
    {
      "cell_type": "code",
      "execution_count": 543,
      "metadata": {},
      "outputs": [],
      "source": [
        "def compute_similarity_for_user_profile(user_profile):\n",
        "    # map userID to cosine similarity\n",
        "    similarity = defaultdict()\n",
        "    for user, _ in same_vector_space.items():\n",
        "        # get the rows where 'reviewerID == user'\n",
        "        row_rated_by_users = training_data['reviewerID'].isin([user])\n",
        "        # get items rated by the user\n",
        "        rated_by_user = training_data[row_rated_by_users].asin.values\n",
        "        # get items not rated by the user\n",
        "        not_rated_by = item_tf_idf_matrix.drop(rated_by_user)\n",
        "        temp = pd.DataFrame(index=not_rated_by.index, columns=['cosine_similarity'])\n",
        "        # compute the cosine similarity between user prfile and items not rated by the user\n",
        "        cosine_similarities = cosine_similarity([user_profile[user]], not_rated_by)\n",
        "        temp['cosine_similarity'] = cosine_similarities[0]\n",
        "        similarity[user] = temp\n",
        "    return similarity\n",
        "\n",
        "similarity_for_user_profile = compute_similarity_for_user_profile(user_profile)\n"
      ]
    },
    {
      "cell_type": "markdown",
      "metadata": {},
      "source": [
        "Report Precision@5, MAP@5, MRR@5 and the hit rate using the test set."
      ]
    },
    {
      "cell_type": "code",
      "execution_count": 544,
      "metadata": {},
      "outputs": [],
      "source": [
        "def transfer_to_user_item_similarity_relevant(similarity):\n",
        "    # map the predictions to each user.\n",
        "    user_item_rating = defaultdict(list)\n",
        "    for user, sim in similarity.items():\n",
        "        if user not in list(user_item_test.index):  # very important part\n",
        "            continue\n",
        "        for iid in sim.index.values:\n",
        "            true_rating = user_item_test.loc[user, iid] if iid in list(user_item_test.columns) else 0\n",
        "            relevant = 1 if true_rating >= 4.0 else 0\n",
        "            user_item_rating[user].append((iid, sim.loc[iid].values[0], relevant))\n",
        "    # {uid: [(iid, similarity, relevant)]}\n",
        "    return user_item_rating\n",
        "\n",
        "# compute HR@k for one user\n",
        "def HR_at_k(k, user_ratings):\n",
        "    for i in range(k):\n",
        "        _, _, relevant = user_ratings[i]\n",
        "        if relevant == 1:\n",
        "            return 1.0\n",
        "    return 0.0\n",
        "\n",
        "def compute_metrics(k, user_item_rating):\n",
        "    hr = dict() # hit rate\n",
        "    precisions = dict() # precision\n",
        "    ap = dict() # average precision\n",
        "    rr = dict() # reciprocal rank\n",
        "    for uid, user_ratings in user_item_rating.items():\n",
        "        # Sort user ratings by estimated value\n",
        "        user_ratings.sort(key=lambda x: x[1], reverse=True)\n",
        "        hr[uid] = HR_at_k(k, user_ratings)\n",
        "        precisions[uid] = precision_at_k(k, user_ratings)\n",
        "        ap[uid] = (sum((precision_at_k(i, user_ratings)*user_ratings[i-1][2]) for i in range(1, k+1)) / total_relevant(user_ratings)) if total_relevant(user_ratings) != 0 else 0\n",
        "        rr[uid] = RR_at_k(k, user_ratings)\n",
        "    return sum(prec for prec in hr.values()) / len(hr), sum(prec for prec in precisions.values()) / len(precisions), sum(prec for prec in ap.values()) / len(ap), sum(prec for prec in rr.values()) / len(rr) \n",
        "\n",
        "user_item_similarity_cb = transfer_to_user_item_similarity_relevant(similarity_for_user_profile)"
      ]
    },
    {
      "cell_type": "code",
      "execution_count": 545,
      "metadata": {},
      "outputs": [
        {
          "name": "stdout",
          "output_type": "stream",
          "text": [
            "Average Precision@5: 0.042 \n",
            "MAP@5: 0.162 \n",
            "MRR@5: 0.162 \n",
            "Hit Rate (top-5): 0.208\n"
          ]
        }
      ],
      "source": [
        "mhr_at_k, mp_at_k, map_at_k, mrr_at_k = compute_metrics(5, user_item_similarity_cb)\n",
        "print(f\"Average Precision@5: {round(mp_at_k, 3)} \\nMAP@5: {round(map_at_k, 3)} \\nMRR@5: {round(mrr_at_k, 3)} \\nHit Rate (top-5): {round(mhr_at_k, 3)}\")"
      ]
    },
    {
      "cell_type": "markdown",
      "metadata": {},
      "source": [
        "# Week 11"
      ]
    },
    {
      "cell_type": "markdown",
      "metadata": {},
      "source": [
        "**Weighted strategy** that re-ranks the items by combining the individual rankings from the two models with some aggregate function such as the sum, average, minimum or maximum."
      ]
    },
    {
      "cell_type": "code",
      "execution_count": 546,
      "metadata": {},
      "outputs": [],
      "source": [
        "# to rank the predictions/similarity of two models\n",
        "def rank_scores(user_item_relevant):\n",
        "    rank = dict()\n",
        "    for uid, msg in user_item_relevant.items():\n",
        "        item_est = pd.DataFrame(data=msg, columns=[\"asin\", \"score\", \"relevant\"])\n",
        "        # Normalize the scores\n",
        "        item_est[\"norm_score\"] = (item_est[\"score\"] - item_est[\"score\"].mean()) / item_est[\"score\"].std() if item_est[\"score\"].std() != 0 else 0\n",
        "        # rank the scores\n",
        "        rank[uid] = item_est.sort_values(by=[\"norm_score\"], ascending=False).set_index(\"asin\", drop=True)\n",
        "    return rank\n",
        "\n",
        "cf_prediction_rank = rank_scores(user_item_rating_nb_relevant)\n",
        "cb_similarity_rank = rank_scores(user_item_similarity_cb)   "
      ]
    },
    {
      "cell_type": "code",
      "execution_count": 547,
      "metadata": {},
      "outputs": [],
      "source": [
        "def rank_combination(cf_prediction_rank, cb_similarity_rank):\n",
        "    rank = defaultdict(list)\n",
        "    for uid, rank_msg_cf in cf_prediction_rank.items():\n",
        "        rank_msg_cb = cb_similarity_rank[uid]\n",
        "        for item in rank_msg_cf.index.values:\n",
        "            norm_in_cf = rank_msg_cf.loc[item, \"norm_score\"]\n",
        "            norm_in_cb = rank_msg_cb.loc[item, \"norm_score\"]\n",
        "            relevant = rank_msg_cb.loc[item, \"relevant\"]\n",
        "            alpha = 1\n",
        "            beta = 1\n",
        "            rank[uid].append((item, alpha*norm_in_cf + beta*norm_in_cb, relevant))\n",
        "\n",
        "    # I did the following sort when computing MRR, MAP such metrics\n",
        "    # for uid, rank_msg in rank.items():\n",
        "    #     rank_msg.sort(key=lambda x: x[1], reverse=True)\n",
        "    #     rank[uid] = rank_msg\n",
        "    return rank\n",
        "\n",
        "rank_combined_weighted = rank_combination(cf_prediction_rank, cb_similarity_rank)"
      ]
    },
    {
      "cell_type": "markdown",
      "metadata": {},
      "source": [
        "**Switching strategy** that uses the recommendations from the collaborative filtering model for some users and the recommendations from the content- based model for other users chosen by a predefined condition."
      ]
    },
    {
      "cell_type": "code",
      "execution_count": 548,
      "metadata": {},
      "outputs": [],
      "source": [
        "def compute_RR(user_item_rating):\n",
        "    rr_list = dict() # reciprocal rank\n",
        "    for uid, user_ratings in user_item_rating.items():\n",
        "        # rank the non-rated items for each user\n",
        "        user_ratings.sort(key=lambda x: x[1], reverse=True)\n",
        "        rr_list[uid] = RR_at_k(len(user_ratings), user_ratings)\n",
        "    return rr_list\n",
        "\n",
        "# compute RR of each user\n",
        "rr_nb = compute_RR(user_item_rating_nb_relevant)\n",
        "rr_cb = compute_RR(user_item_similarity_cb)\n",
        "\n",
        "def check_predefined_condition(userID):\n",
        "    # check RR from two models\n",
        "    return rr_cb[userID] >= rr_nb[userID]\n",
        "\n",
        "def switching_strategy(cf_prediction_rank, cb_similarity_rank):\n",
        "    rank = defaultdict(list)\n",
        "    for uid, rank_msg_cf in cf_prediction_rank.items():\n",
        "        rank_msg_cb = cb_similarity_rank[uid]\n",
        "        if check_predefined_condition(uid):\n",
        "            for item in rank_msg_cb.index.values:\n",
        "                rank[uid].append((item, rank_msg_cb.loc[item, \"norm_score\"], rank_msg_cb.loc[item, \"relevant\"]))\n",
        "        else:\n",
        "            for item in rank_msg_cf.index.values:\n",
        "                rank[uid].append((item, rank_msg_cb.loc[item, \"norm_score\"], rank_msg_cb.loc[item, \"relevant\"]))\n",
        "                \n",
        "    # I did the following sort when computing MRR, MAP such metrics\n",
        "    # for uid, rank_msg in rank.items():\n",
        "    #     rank_msg.sort(key=lambda x: x[1], reverse=True)\n",
        "    #     rank[uid] = rank_msg\n",
        "    return rank\n",
        "\n",
        "rank_combined_switching = switching_strategy(cf_prediction_rank, cb_similarity_rank)"
      ]
    },
    {
      "cell_type": "markdown",
      "metadata": {},
      "source": [
        "**Meta-level strategy** where a level of one model is used as input to the other model."
      ]
    },
    {
      "cell_type": "code",
      "execution_count": 549,
      "metadata": {},
      "outputs": [],
      "source": [
        "def user_non_rated_item():\n",
        "    non_rated = dict()\n",
        "    user_ids = user_item_training.index.values\n",
        "    item_ids = user_item_training.columns.values\n",
        "    for item in item_ids:\n",
        "        # users rated the item and their ratings\n",
        "        item_rated_by = pd.DataFrame(user_item_training[user_item_training[item] >= 0.0][item])\n",
        "        for user in user_ids:\n",
        "        # check if the user rated the item\n",
        "            if user not in item_rated_by.index.values:\n",
        "                # add to dict, so that we can predict\n",
        "                non_rated[(user, item)] = item_rated_by\n",
        "                \n",
        "    return non_rated\n",
        "\n",
        "non_rated = user_non_rated_item()"
      ]
    },
    {
      "cell_type": "code",
      "execution_count": 550,
      "metadata": {},
      "outputs": [],
      "source": [
        "def add_cosine_similarity(non_rated):\n",
        "    # compute the similarities\n",
        "    non_rated_and_similarity = dict()\n",
        "    for (user, item), msg in non_rated.items():\n",
        "        users_rate_item = msg.index.values\n",
        "        user_profiles = list(map(user_profile.get, users_rate_item))\n",
        "        msg[\"similarity\"] = cosine_similarity([user_profile[user]], user_profiles)[0]\n",
        "        non_rated_and_similarity[(user, item)] = msg\n",
        "    return non_rated_and_similarity\n",
        "\n",
        "non_rated_and_similarity = add_cosine_similarity(non_rated)"
      ]
    },
    {
      "cell_type": "code",
      "execution_count": 551,
      "metadata": {},
      "outputs": [],
      "source": [
        "def get_predictions(k, non_rated_and_similarity):\n",
        "    # compute predictions\n",
        "    predictions_user = defaultdict(list)\n",
        "    for (user, item), msg in non_rated_and_similarity.items():\n",
        "        three_most_simi = msg.sort_values(by=[\"similarity\"], ascending=False).head(k)\n",
        "        pred = three_most_simi[item].multiply(three_most_simi[\"similarity\"]).sum(axis=0) / three_most_simi[\"similarity\"].sum(axis=0) if three_most_simi[\"similarity\"].sum(axis=0) != 0 else 0\n",
        "        predictions_user[user].append((item, pred))\n",
        "    return predictions_user\n",
        "\n",
        "pred_hybrid = get_predictions(5, non_rated_and_similarity)"
      ]
    },
    {
      "cell_type": "code",
      "execution_count": 552,
      "metadata": {},
      "outputs": [],
      "source": [
        "def check_relevent(pred_hybrid):\n",
        "    # to check if the item is relevant\n",
        "    pred_relevent = defaultdict(list)\n",
        "    for user, pred_list in pred_hybrid.items():\n",
        "        if user not in list(user_item_test.index):  # very important part\n",
        "            continue\n",
        "        for (item, pred) in pred_list:\n",
        "            true_rating = user_item_test.loc[user, item] if item in list(user_item_test.columns) else 0\n",
        "            relevant = 1 if true_rating >= 4.0 else 0\n",
        "            pred_relevent[user].append((item, pred, relevant))\n",
        "    return pred_relevent\n",
        "\n",
        "rank_combined_meta = check_relevent(pred_hybrid)"
      ]
    },
    {
      "cell_type": "markdown",
      "metadata": {},
      "source": [
        "Report Precision@5, MAP@5, MRR@5 and the hit rate using the test set."
      ]
    },
    {
      "cell_type": "code",
      "execution_count": 553,
      "metadata": {},
      "outputs": [
        {
          "name": "stdout",
          "output_type": "stream",
          "text": [
            "Metrics for hybrid recommender system with weighted strategy:\n",
            "Average Precision@5: 0.041 \n",
            "MAP@5: 0.16 \n",
            "MRR@5: 0.16 \n",
            "Hit Rate (top-5): 0.204\n",
            "Metrics for hybrid recommender system with switching strategy:\n",
            "Average Precision@5: 0.041 \n",
            "MAP@5: 0.162 \n",
            "MRR@5: 0.162 \n",
            "Hit Rate (top-5): 0.207\n",
            "Metrics for hybrid recommender system with meta-level strategy:\n",
            "Average Precision@5: 0.026 \n",
            "MAP@5: 0.127 \n",
            "MRR@5: 0.127 \n",
            "Hit Rate (top-5): 0.13\n"
          ]
        }
      ],
      "source": [
        "mhr_at_k, mp_at_k, map_at_k, mrr_at_k = compute_metrics(5, rank_combined_weighted)\n",
        "print(\"Metrics for hybrid recommender system with weighted strategy:\")\n",
        "print(f\"Average Precision@5: {round(mp_at_k, 3)} \\nMAP@5: {round(map_at_k, 3)} \\nMRR@5: {round(mrr_at_k, 3)} \\nHit Rate (top-5): {round(mhr_at_k, 3)}\")\n",
        "\n",
        "mhr_at_k, mp_at_k, map_at_k, mrr_at_k = compute_metrics(5, rank_combined_switching)\n",
        "print(\"Metrics for hybrid recommender system with switching strategy:\")\n",
        "print(f\"Average Precision@5: {round(mp_at_k, 3)} \\nMAP@5: {round(map_at_k, 3)} \\nMRR@5: {round(mrr_at_k, 3)} \\nHit Rate (top-5): {round(mhr_at_k, 3)}\")\n",
        "\n",
        "mhr_at_k, mp_at_k, map_at_k, mrr_at_k = compute_metrics(5, rank_combined_meta)\n",
        "print(\"Metrics for hybrid recommender system with meta-level strategy:\")\n",
        "print(f\"Average Precision@5: {round(mp_at_k, 3)} \\nMAP@5: {round(map_at_k, 3)} \\nMRR@5: {round(mrr_at_k, 3)} \\nHit Rate (top-5): {round(mhr_at_k, 3)}\")"
      ]
    }
  ],
  "metadata": {
    "colab": {
      "collapsed_sections": [],
      "name": "web_science_project.ipynb",
      "provenance": []
    },
    "kernelspec": {
      "display_name": "Python 3",
      "name": "python3"
    },
    "language_info": {
      "codemirror_mode": {
        "name": "ipython",
        "version": 3
      },
      "file_extension": ".py",
      "mimetype": "text/x-python",
      "name": "python",
      "nbconvert_exporter": "python",
      "pygments_lexer": "ipython3",
      "version": "3.9.7"
    }
  },
  "nbformat": 4,
  "nbformat_minor": 0
}
